{
 "cells": [
  {
   "cell_type": "code",
   "execution_count": 5,
   "id": "e2df036f-ab73-4263-a340-b0efb46435aa",
   "metadata": {},
   "outputs": [
    {
     "name": "stdout",
     "output_type": "stream",
     "text": [
      "Requirement already satisfied: pandas in d:\\backup\\career\\git\\sentiment-analysis\\venv\\lib\\site-packages (2.2.3)\n",
      "Requirement already satisfied: pytz>=2020.1 in d:\\backup\\career\\git\\sentiment-analysis\\venv\\lib\\site-packages (from pandas) (2024.2)\n",
      "Requirement already satisfied: python-dateutil>=2.8.2 in d:\\backup\\career\\git\\sentiment-analysis\\venv\\lib\\site-packages (from pandas) (2.9.0.post0)\n",
      "Requirement already satisfied: numpy>=1.22.4 in d:\\backup\\career\\git\\sentiment-analysis\\venv\\lib\\site-packages (from pandas) (2.2.1)\n",
      "Requirement already satisfied: tzdata>=2022.7 in d:\\backup\\career\\git\\sentiment-analysis\\venv\\lib\\site-packages (from pandas) (2024.2)\n",
      "Requirement already satisfied: six>=1.5 in d:\\backup\\career\\git\\sentiment-analysis\\venv\\lib\\site-packages (from python-dateutil>=2.8.2->pandas) (1.17.0)\n"
     ]
    },
    {
     "name": "stderr",
     "output_type": "stream",
     "text": [
      "WARNING: You are using pip version 21.2.4; however, version 24.3.1 is available.\n",
      "You should consider upgrading via the 'D:\\BACKUP\\CAREER\\GIT\\sentiment-analysis\\venv\\Scripts\\python.exe -m pip install --upgrade pip' command.\n"
     ]
    },
    {
     "name": "stdout",
     "output_type": "stream",
     "text": [
      "Requirement already satisfied: numpy in d:\\backup\\career\\git\\sentiment-analysis\\venv\\lib\\site-packages (2.2.1)\n"
     ]
    },
    {
     "name": "stderr",
     "output_type": "stream",
     "text": [
      "WARNING: You are using pip version 21.2.4; however, version 24.3.1 is available.\n",
      "You should consider upgrading via the 'D:\\BACKUP\\CAREER\\GIT\\sentiment-analysis\\venv\\Scripts\\python.exe -m pip install --upgrade pip' command.\n"
     ]
    },
    {
     "name": "stdout",
     "output_type": "stream",
     "text": [
      "Requirement already satisfied: scikit-learn in d:\\backup\\career\\git\\sentiment-analysis\\venv\\lib\\site-packages (1.6.0)\n",
      "Requirement already satisfied: joblib>=1.2.0 in d:\\backup\\career\\git\\sentiment-analysis\\venv\\lib\\site-packages (from scikit-learn) (1.4.2)\n",
      "Requirement already satisfied: scipy>=1.6.0 in d:\\backup\\career\\git\\sentiment-analysis\\venv\\lib\\site-packages (from scikit-learn) (1.14.1)\n",
      "Requirement already satisfied: threadpoolctl>=3.1.0 in d:\\backup\\career\\git\\sentiment-analysis\\venv\\lib\\site-packages (from scikit-learn) (3.5.0)\n",
      "Requirement already satisfied: numpy>=1.19.5 in d:\\backup\\career\\git\\sentiment-analysis\\venv\\lib\\site-packages (from scikit-learn) (2.2.1)\n"
     ]
    },
    {
     "name": "stderr",
     "output_type": "stream",
     "text": [
      "WARNING: You are using pip version 21.2.4; however, version 24.3.1 is available.\n",
      "You should consider upgrading via the 'D:\\BACKUP\\CAREER\\GIT\\sentiment-analysis\\venv\\Scripts\\python.exe -m pip install --upgrade pip' command.\n"
     ]
    },
    {
     "name": "stdout",
     "output_type": "stream",
     "text": [
      "Requirement already satisfied: nltk in d:\\backup\\career\\git\\sentiment-analysis\\venv\\lib\\site-packages (3.9.1)\n",
      "Requirement already satisfied: click in d:\\backup\\career\\git\\sentiment-analysis\\venv\\lib\\site-packages (from nltk) (8.1.8)\n",
      "Requirement already satisfied: tqdm in d:\\backup\\career\\git\\sentiment-analysis\\venv\\lib\\site-packages (from nltk) (4.67.1)\n",
      "Requirement already satisfied: regex>=2021.8.3 in d:\\backup\\career\\git\\sentiment-analysis\\venv\\lib\\site-packages (from nltk) (2024.11.6)\n",
      "Requirement already satisfied: joblib in d:\\backup\\career\\git\\sentiment-analysis\\venv\\lib\\site-packages (from nltk) (1.4.2)\n",
      "Requirement already satisfied: colorama in d:\\backup\\career\\git\\sentiment-analysis\\venv\\lib\\site-packages (from click->nltk) (0.4.6)\n"
     ]
    },
    {
     "name": "stderr",
     "output_type": "stream",
     "text": [
      "WARNING: You are using pip version 21.2.4; however, version 24.3.1 is available.\n",
      "You should consider upgrading via the 'D:\\BACKUP\\CAREER\\GIT\\sentiment-analysis\\venv\\Scripts\\python.exe -m pip install --upgrade pip' command.\n"
     ]
    }
   ],
   "source": [
    "!pip install pandas\n",
    "!pip install numpy\n",
    "!pip install scikit-learn \n",
    "!pip install nltk\n"
   ]
  },
  {
   "cell_type": "code",
   "execution_count": 26,
   "id": "c78d2563-92db-417a-9851-7524184b9d18",
   "metadata": {},
   "outputs": [],
   "source": [
    "import pandas as pd\n",
    "import numpy as np\n",
    "from sklearn.feature_extraction.text import CountVectorizer, TfidfVectorizer\n",
    "from sklearn.model_selection import train_test_split\n",
    "from sklearn.naive_bayes import MultinomialNB\n",
    "from sklearn.metrics import accuracy_score, classification_report\n",
    "import nltk\n",
    "from nltk.sentiment import SentimentIntensityAnalyzer\n",
    "nltk.data.path.append('D:/BACKUP/CAREER/GIT/sentiment-analysis/venv/nltk_data')"
   ]
  },
  {
   "cell_type": "code",
   "execution_count": 36,
   "id": "93b000a2-8607-483f-9214-b7acddc6c1e9",
   "metadata": {},
   "outputs": [
    {
     "name": "stdout",
     "output_type": "stream",
     "text": [
      "2.2.1\n",
      "2.2.3\n",
      "['C:\\\\Users\\\\ASUS/nltk_data', 'D:\\\\BACKUP\\\\CAREER\\\\GIT\\\\sentiment-analysis\\\\venv\\\\nltk_data', 'D:\\\\BACKUP\\\\CAREER\\\\GIT\\\\sentiment-analysis\\\\venv\\\\share\\\\nltk_data', 'D:\\\\BACKUP\\\\CAREER\\\\GIT\\\\sentiment-analysis\\\\venv\\\\lib\\\\nltk_data', 'C:\\\\Users\\\\ASUS\\\\AppData\\\\Roaming\\\\nltk_data', 'C:\\\\nltk_data', 'D:\\\\nltk_data', 'E:\\\\nltk_data', 'D:/BACKUP/CAREER/GIT/sentiment-analysis/venv/nltk_data']\n"
     ]
    }
   ],
   "source": [
    "print(np.__version__)\n",
    "print(pd.__version__)\n",
    "print(nltk.data.path)"
   ]
  },
  {
   "cell_type": "code",
   "execution_count": 37,
   "id": "0364795e-3d9c-4a89-a04d-a42fc960e7d8",
   "metadata": {},
   "outputs": [],
   "source": [
    "data = {\n",
    "    'text': [\n",
    "        'I love this product!',\n",
    "        'This is the worst thing I have ever bought.',\n",
    "        'Absolutely fantastic experience.',\n",
    "        'I hate it so much!',\n",
    "        'It was okay, not great but not terrible.'\n",
    "    ],\n",
    "    'sentiment': ['positive', 'negative', 'positive', 'negative', 'neutral']\n",
    "}"
   ]
  },
  {
   "cell_type": "code",
   "execution_count": 38,
   "id": "b8dec27c-8ae2-4bbd-af50-6973f4456846",
   "metadata": {},
   "outputs": [
    {
     "name": "stdout",
     "output_type": "stream",
     "text": [
      "                                          text sentiment\n",
      "0                         I love this product!  positive\n",
      "1  This is the worst thing I have ever bought.  negative\n",
      "2             Absolutely fantastic experience.  positive\n",
      "3                           I hate it so much!  negative\n",
      "4     It was okay, not great but not terrible.   neutral\n"
     ]
    }
   ],
   "source": [
    "df = pd.DataFrame(data)\n",
    "print(df)"
   ]
  },
  {
   "cell_type": "code",
   "execution_count": 39,
   "id": "99d8290f-0d71-4359-b3d9-aa42c6ef4c81",
   "metadata": {},
   "outputs": [
    {
     "name": "stdout",
     "output_type": "stream",
     "text": [
      "                                          text  \\\n",
      "0                         I love this product!   \n",
      "1  This is the worst thing I have ever bought.   \n",
      "2             Absolutely fantastic experience.   \n",
      "3                           I hate it so much!   \n",
      "4     It was okay, not great but not terrible.   \n",
      "\n",
      "                                 cleaned_text  \n",
      "0                         i love this product  \n",
      "1  this is the worst thing i have ever bought  \n",
      "2             absolutely fantastic experience  \n",
      "3                           i hate it so much  \n",
      "4      it was okay not great but not terrible  \n",
      "\n",
      "                                 cleaned_text\n",
      "0                         i love this product\n",
      "1  this is the worst thing i have ever bought\n",
      "2             absolutely fantastic experience\n",
      "3                           i hate it so much\n",
      "4      it was okay not great but not terrible\n"
     ]
    }
   ],
   "source": [
    "import string\n",
    "\n",
    "def preprocess_text(text):\n",
    "    text = text.lower()\n",
    "    text = text.translate(str.maketrans('','',string.punctuation))\n",
    "    return text\n",
    "\n",
    "df['cleaned_text'] = df['text'].apply(preprocess_text)\n",
    "print(df[['text','cleaned_text']])\n",
    "print(f'\\n{df[[\"cleaned_text\"]]}')\n"
   ]
  },
  {
   "cell_type": "code",
   "execution_count": 40,
   "id": "52bf72b7-fc77-4773-86b4-4852f3293100",
   "metadata": {},
   "outputs": [
    {
     "name": "stderr",
     "output_type": "stream",
     "text": [
      "[nltk_data] Downloading package vader_lexicon to\n",
      "[nltk_data]     C:\\Users\\ASUS\\AppData\\Roaming\\nltk_data...\n",
      "[nltk_data]   Package vader_lexicon is already up-to-date!\n"
     ]
    }
   ],
   "source": [
    "nltk.download('vader_lexicon')\n",
    "sia = SentimentIntensityAnalyzer()\n",
    "\n",
    "df['vader_sentiment'] = df['cleaned_text'].apply(lambda x: sia.polarity_scores(x)['compound'])\n",
    "df['predicted_sentiment'] = df['vader_sentiment'].apply(lambda x: 'positive' if x > 0 else 'negetive' if x < 0 else 'nuetral') "
   ]
  },
  {
   "cell_type": "code",
   "execution_count": 41,
   "id": "5930b753-b93b-454c-991d-c25c309ab680",
   "metadata": {},
   "outputs": [
    {
     "name": "stdout",
     "output_type": "stream",
     "text": [
      "                                          text sentiment  \\\n",
      "0                         I love this product!  positive   \n",
      "1  This is the worst thing I have ever bought.  negative   \n",
      "2             Absolutely fantastic experience.  positive   \n",
      "3                           I hate it so much!  negative   \n",
      "4     It was okay, not great but not terrible.   neutral   \n",
      "\n",
      "                                 cleaned_text  vader_sentiment  \\\n",
      "0                         i love this product           0.6369   \n",
      "1  this is the worst thing i have ever bought          -0.6249   \n",
      "2             absolutely fantastic experience           0.5984   \n",
      "3                           i hate it so much          -0.5719   \n",
      "4      it was okay not great but not terrible           0.3887   \n",
      "\n",
      "  predicted_sentiment  \n",
      "0            positive  \n",
      "1            negetive  \n",
      "2            positive  \n",
      "3            negetive  \n",
      "4            positive  \n"
     ]
    }
   ],
   "source": [
    "print(df)"
   ]
  },
  {
   "cell_type": "markdown",
   "id": "89aa83ce-27e1-4e6e-8d9e-d141da4d7847",
   "metadata": {},
   "source": [
    "OPTION 2"
   ]
  },
  {
   "cell_type": "code",
   "execution_count": 42,
   "id": "d735fc40-0d29-4872-ad4b-515daa9fcc15",
   "metadata": {},
   "outputs": [
    {
     "name": "stdout",
     "output_type": "stream",
     "text": [
      "Accuracy: 0.0\n",
      "              precision    recall  f1-score   support\n",
      "\n",
      "    negative       0.00      0.00      0.00       1.0\n",
      "    positive       0.00      0.00      0.00       0.0\n",
      "\n",
      "    accuracy                           0.00       1.0\n",
      "   macro avg       0.00      0.00      0.00       1.0\n",
      "weighted avg       0.00      0.00      0.00       1.0\n",
      "\n"
     ]
    },
    {
     "name": "stderr",
     "output_type": "stream",
     "text": [
      "D:\\BACKUP\\CAREER\\GIT\\sentiment-analysis\\venv\\lib\\site-packages\\sklearn\\metrics\\_classification.py:1565: UndefinedMetricWarning: Precision is ill-defined and being set to 0.0 in labels with no predicted samples. Use `zero_division` parameter to control this behavior.\n",
      "  _warn_prf(average, modifier, f\"{metric.capitalize()} is\", len(result))\n",
      "D:\\BACKUP\\CAREER\\GIT\\sentiment-analysis\\venv\\lib\\site-packages\\sklearn\\metrics\\_classification.py:1565: UndefinedMetricWarning: Recall is ill-defined and being set to 0.0 in labels with no true samples. Use `zero_division` parameter to control this behavior.\n",
      "  _warn_prf(average, modifier, f\"{metric.capitalize()} is\", len(result))\n",
      "D:\\BACKUP\\CAREER\\GIT\\sentiment-analysis\\venv\\lib\\site-packages\\sklearn\\metrics\\_classification.py:1565: UndefinedMetricWarning: Precision is ill-defined and being set to 0.0 in labels with no predicted samples. Use `zero_division` parameter to control this behavior.\n",
      "  _warn_prf(average, modifier, f\"{metric.capitalize()} is\", len(result))\n",
      "D:\\BACKUP\\CAREER\\GIT\\sentiment-analysis\\venv\\lib\\site-packages\\sklearn\\metrics\\_classification.py:1565: UndefinedMetricWarning: Recall is ill-defined and being set to 0.0 in labels with no true samples. Use `zero_division` parameter to control this behavior.\n",
      "  _warn_prf(average, modifier, f\"{metric.capitalize()} is\", len(result))\n",
      "D:\\BACKUP\\CAREER\\GIT\\sentiment-analysis\\venv\\lib\\site-packages\\sklearn\\metrics\\_classification.py:1565: UndefinedMetricWarning: Precision is ill-defined and being set to 0.0 in labels with no predicted samples. Use `zero_division` parameter to control this behavior.\n",
      "  _warn_prf(average, modifier, f\"{metric.capitalize()} is\", len(result))\n",
      "D:\\BACKUP\\CAREER\\GIT\\sentiment-analysis\\venv\\lib\\site-packages\\sklearn\\metrics\\_classification.py:1565: UndefinedMetricWarning: Recall is ill-defined and being set to 0.0 in labels with no true samples. Use `zero_division` parameter to control this behavior.\n",
      "  _warn_prf(average, modifier, f\"{metric.capitalize()} is\", len(result))\n"
     ]
    }
   ],
   "source": [
    "vectorizer = CountVectorizer()\n",
    "X = vectorizer.fit_transform(df['cleaned_text'])\n",
    "y = df['sentiment']\n",
    "\n",
    "X_train, X_test, y_train, y_test = train_test_split(X,y, test_size=0.2, random_state=42)\n",
    "\n",
    "model = MultinomialNB()\n",
    "model.fit(X_train, y_train)\n",
    "\n",
    "#predict\n",
    "y_pred = model.predict(X_test)\n",
    "print(\"Accuracy:\", accuracy_score(y_test, y_pred))\n",
    "print(classification_report(y_test, y_pred))"
   ]
  },
  {
   "cell_type": "code",
   "execution_count": null,
   "id": "7cacc33b-7dfd-4ff5-86fc-7b13c80b0f7b",
   "metadata": {},
   "outputs": [],
   "source": []
  }
 ],
 "metadata": {
  "kernelspec": {
   "display_name": "Python 3 (ipykernel)",
   "language": "python",
   "name": "python3"
  },
  "language_info": {
   "codemirror_mode": {
    "name": "ipython",
    "version": 3
   },
   "file_extension": ".py",
   "mimetype": "text/x-python",
   "name": "python",
   "nbconvert_exporter": "python",
   "pygments_lexer": "ipython3",
   "version": "3.10.2"
  }
 },
 "nbformat": 4,
 "nbformat_minor": 5
}
